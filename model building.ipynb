{
 "cells": [
  {
   "cell_type": "code",
   "execution_count": 1,
   "id": "2eefc5e0",
   "metadata": {},
   "outputs": [],
   "source": [
    "from sklearn.model_selection import train_test_split\n",
    "from sklearn.impute import SimpleImputer\n",
    "from sklearn.compose import ColumnTransformer\n",
    "from sklearn.pipeline import Pipeline\n",
    "import pandas as pd\n",
    "import warnings\n",
    "warnings.filterwarnings('ignore')\n",
    "from sklearn.preprocessing import OneHotEncoder\n",
    "from sklearn.preprocessing import OrdinalEncoder\n",
    "from sklearn.model_selection import cross_val_score\n",
    "from sklearn.preprocessing import StandardScaler\n",
    "from sklearn.linear_model import LinearRegression\n",
    "from sklearn.metrics import r2_score as r\n",
    "from sklearn.metrics import mean_absolute_error as mae\n",
    "from sklearn.svm import SVR\n",
    "from sklearn.linear_model import Ridge\n",
    "from sklearn.tree import DecisionTreeRegressor\n",
    "from sklearn.ensemble import RandomForestRegressor\n",
    "from sklearn.ensemble import ExtraTreesRegressor\n",
    "from sklearn.ensemble import GradientBoostingRegressor\n",
    "from sklearn.ensemble import AdaBoostRegressor\n",
    "from xgboost import XGBRegressor\n",
    "import numpy as np\n",
    "import pickle\n",
    "from sklearn.model_selection import KFold\n",
    "from sklearn.model_selection import GridSearchCV"
   ]
  },
  {
   "cell_type": "code",
   "execution_count": 2,
   "id": "0e19c913",
   "metadata": {},
   "outputs": [],
   "source": [
    "path=\"selected_features.csv\""
   ]
  },
  {
   "cell_type": "code",
   "execution_count": 3,
   "id": "8f02e16d",
   "metadata": {},
   "outputs": [],
   "source": [
    "df=pd.read_csv(path,index_col=0)"
   ]
  },
  {
   "cell_type": "code",
   "execution_count": 4,
   "id": "703a4048",
   "metadata": {},
   "outputs": [],
   "source": [
    "k_folds=10"
   ]
  },
  {
   "cell_type": "code",
   "execution_count": null,
   "id": "f69ec645",
   "metadata": {},
   "outputs": [],
   "source": []
  },
  {
   "cell_type": "markdown",
   "id": "ff7e3633",
   "metadata": {},
   "source": [
    "# creating train test split"
   ]
  },
  {
   "cell_type": "code",
   "execution_count": 5,
   "id": "cfe1926d",
   "metadata": {},
   "outputs": [],
   "source": [
    "x=df.drop(columns=[\"selling_price\"])\n",
    "y=df[\"selling_price\"]\n",
    "x_train,x_test,y_train,y_test=train_test_split(x,y,test_size=0.2)"
   ]
  },
  {
   "cell_type": "code",
   "execution_count": null,
   "id": "f0b50e6f",
   "metadata": {},
   "outputs": [],
   "source": []
  },
  {
   "cell_type": "code",
   "execution_count": 6,
   "id": "b6be898f",
   "metadata": {},
   "outputs": [
    {
     "name": "stdout",
     "output_type": "stream",
     "text": [
      "0 company\n",
      "1 year_of_purchase\n",
      "2 km_driven\n",
      "3 fuel_type\n",
      "4 transmission_type\n",
      "5 no_of_seats\n",
      "6 selling_price\n"
     ]
    }
   ],
   "source": [
    "for index,col in enumerate(df.columns):\n",
    "    \n",
    "    print(index,col)"
   ]
  },
  {
   "cell_type": "markdown",
   "id": "9fbe4be3",
   "metadata": {},
   "source": [
    "# feature engineering"
   ]
  },
  {
   "cell_type": "code",
   "execution_count": 7,
   "id": "df84ee85",
   "metadata": {},
   "outputs": [],
   "source": [
    "#filling all categories with ordinal encoding"
   ]
  },
  {
   "cell_type": "code",
   "execution_count": 8,
   "id": "d8beb35e",
   "metadata": {},
   "outputs": [],
   "source": [
    "feature_engineering=ColumnTransformer([\n",
    "    (\"order2\",OrdinalEncoder(handle_unknown=\"use_encoded_value\",unknown_value=-1),[\"company\",\"fuel_type\",\"transmission_type\"]),\n",
    "    (\"scale\",StandardScaler(),[1,2])],remainder=\"passthrough\",verbose_feature_names_out=False)"
   ]
  },
  {
   "cell_type": "code",
   "execution_count": 9,
   "id": "100dff94",
   "metadata": {},
   "outputs": [],
   "source": [
    "pipe=Pipeline([\n",
    "    (\"feature_engineering\",feature_engineering),\n",
    "    (\"reg\", LinearRegression())\n",
    "])"
   ]
  },
  {
   "cell_type": "code",
   "execution_count": 10,
   "id": "1748311e",
   "metadata": {},
   "outputs": [],
   "source": [
    "kf = KFold(n_splits=k_folds, shuffle=True, random_state=42)\n",
    "scores=cross_val_score(pipe,x,y,cv=kf,scoring=\"r2\")"
   ]
  },
  {
   "cell_type": "code",
   "execution_count": 11,
   "id": "3f07dfe1",
   "metadata": {},
   "outputs": [
    {
     "data": {
      "text/plain": [
       "0.4711179583596504"
      ]
     },
     "execution_count": 11,
     "metadata": {},
     "output_type": "execute_result"
    }
   ],
   "source": [
    "scores.mean()"
   ]
  },
  {
   "cell_type": "code",
   "execution_count": 12,
   "id": "60e1ed8f",
   "metadata": {},
   "outputs": [
    {
     "data": {
      "text/plain": [
       "0.040394428841327754"
      ]
     },
     "execution_count": 12,
     "metadata": {},
     "output_type": "execute_result"
    }
   ],
   "source": [
    "scores.std()"
   ]
  },
  {
   "cell_type": "code",
   "execution_count": 13,
   "id": "730fbf10",
   "metadata": {},
   "outputs": [],
   "source": [
    "x_train,x_test,y_train,y_test=train_test_split(x,y,test_size=0.2)"
   ]
  },
  {
   "cell_type": "code",
   "execution_count": 14,
   "id": "126b1d5b",
   "metadata": {},
   "outputs": [
    {
     "data": {
      "text/plain": [
       "336522.04766174516"
      ]
     },
     "execution_count": 14,
     "metadata": {},
     "output_type": "execute_result"
    }
   ],
   "source": [
    "pipe.fit(x_train,y_train)\n",
    "\n",
    "y_pred=pipe.predict(x_test)\n",
    "\n",
    "r(y_test,y_pred)\n",
    "\n",
    "mae(y_test,y_pred)"
   ]
  },
  {
   "cell_type": "code",
   "execution_count": 15,
   "id": "d6502b1a",
   "metadata": {},
   "outputs": [],
   "source": [
    "model_dict = {\n",
    "    \"linear_reg\": LinearRegression(),\n",
    "    \"svr\": SVR(),\n",
    "    \"ridge\": Ridge(),\n",
    "    \"decision_tree\": DecisionTreeRegressor(),\n",
    "    \"random_forest\": RandomForestRegressor(),\n",
    "    \"extra_trees\": ExtraTreesRegressor(),\n",
    "    \"gradient_boosting\": GradientBoostingRegressor(),\n",
    "    \"adaboost\": AdaBoostRegressor(),\n",
    "    \"xgboost\": XGBRegressor()\n",
    "}"
   ]
  },
  {
   "cell_type": "code",
   "execution_count": 16,
   "id": "30e57bf2",
   "metadata": {},
   "outputs": [],
   "source": [
    "def scorer(model_name,model):\n",
    "    \n",
    "    output=[]\n",
    "    \n",
    "    output.append(model_name)\n",
    "    \n",
    "    pipe=Pipeline([\n",
    "    (\"feature_engineering\",feature_engineering),\n",
    "    (\"reg\", model)\n",
    "    ])\n",
    "    \n",
    "    kf = KFold(n_splits=k_folds, shuffle=True, random_state=42)\n",
    "    scores=cross_val_score(pipe,x,y,cv=kf,scoring=\"r2\")\n",
    "    \n",
    "    output.append(scores.mean())\n",
    "    \n",
    "    x_train,x_test,y_train,y_test=train_test_split(x,y,test_size=0.2)\n",
    "\n",
    "    pipe.fit(x_train,y_train)\n",
    "\n",
    "    y_pred=pipe.predict(x_test)\n",
    "\n",
    "    r(y_test,y_pred)\n",
    "\n",
    "    output.append(mae(y_test,y_pred))\n",
    "    \n",
    "    return output\n"
   ]
  },
  {
   "cell_type": "code",
   "execution_count": 17,
   "id": "20485053",
   "metadata": {},
   "outputs": [],
   "source": [
    "model_output=[]\n",
    "\n",
    "for model_name,model in model_dict.items():\n",
    "    model_output.append(scorer(model_name,model))"
   ]
  },
  {
   "cell_type": "code",
   "execution_count": 18,
   "id": "1c2a1319",
   "metadata": {},
   "outputs": [
    {
     "data": {
      "text/html": [
       "<div>\n",
       "<style scoped>\n",
       "    .dataframe tbody tr th:only-of-type {\n",
       "        vertical-align: middle;\n",
       "    }\n",
       "\n",
       "    .dataframe tbody tr th {\n",
       "        vertical-align: top;\n",
       "    }\n",
       "\n",
       "    .dataframe thead th {\n",
       "        text-align: right;\n",
       "    }\n",
       "</style>\n",
       "<table border=\"1\" class=\"dataframe\">\n",
       "  <thead>\n",
       "    <tr style=\"text-align: right;\">\n",
       "      <th></th>\n",
       "      <th>model</th>\n",
       "      <th>rscore</th>\n",
       "      <th>mae</th>\n",
       "    </tr>\n",
       "  </thead>\n",
       "  <tbody>\n",
       "    <tr>\n",
       "      <th>8</th>\n",
       "      <td>xgboost</td>\n",
       "      <td>0.940301</td>\n",
       "      <td>108159.132548</td>\n",
       "    </tr>\n",
       "    <tr>\n",
       "      <th>4</th>\n",
       "      <td>random_forest</td>\n",
       "      <td>0.932456</td>\n",
       "      <td>110012.965534</td>\n",
       "    </tr>\n",
       "    <tr>\n",
       "      <th>5</th>\n",
       "      <td>extra_trees</td>\n",
       "      <td>0.921562</td>\n",
       "      <td>106251.813670</td>\n",
       "    </tr>\n",
       "    <tr>\n",
       "      <th>3</th>\n",
       "      <td>decision_tree</td>\n",
       "      <td>0.917007</td>\n",
       "      <td>118882.269464</td>\n",
       "    </tr>\n",
       "    <tr>\n",
       "      <th>6</th>\n",
       "      <td>gradient_boosting</td>\n",
       "      <td>0.889802</td>\n",
       "      <td>147576.521850</td>\n",
       "    </tr>\n",
       "    <tr>\n",
       "      <th>7</th>\n",
       "      <td>adaboost</td>\n",
       "      <td>0.578242</td>\n",
       "      <td>319351.108869</td>\n",
       "    </tr>\n",
       "    <tr>\n",
       "      <th>2</th>\n",
       "      <td>ridge</td>\n",
       "      <td>0.471124</td>\n",
       "      <td>314979.797170</td>\n",
       "    </tr>\n",
       "    <tr>\n",
       "      <th>0</th>\n",
       "      <td>linear_reg</td>\n",
       "      <td>0.471118</td>\n",
       "      <td>310281.852255</td>\n",
       "    </tr>\n",
       "    <tr>\n",
       "      <th>1</th>\n",
       "      <td>svr</td>\n",
       "      <td>-0.060525</td>\n",
       "      <td>375485.534345</td>\n",
       "    </tr>\n",
       "  </tbody>\n",
       "</table>\n",
       "</div>"
      ],
      "text/plain": [
       "               model    rscore            mae\n",
       "8            xgboost  0.940301  108159.132548\n",
       "4      random_forest  0.932456  110012.965534\n",
       "5        extra_trees  0.921562  106251.813670\n",
       "3      decision_tree  0.917007  118882.269464\n",
       "6  gradient_boosting  0.889802  147576.521850\n",
       "7           adaboost  0.578242  319351.108869\n",
       "2              ridge  0.471124  314979.797170\n",
       "0         linear_reg  0.471118  310281.852255\n",
       "1                svr -0.060525  375485.534345"
      ]
     },
     "execution_count": 18,
     "metadata": {},
     "output_type": "execute_result"
    }
   ],
   "source": [
    "pd.DataFrame(model_output,columns=[\"model\",\"rscore\",\"mae\"]).sort_values(by=\"rscore\",ascending=False)"
   ]
  },
  {
   "cell_type": "code",
   "execution_count": null,
   "id": "beaf6e93",
   "metadata": {},
   "outputs": [],
   "source": []
  },
  {
   "cell_type": "markdown",
   "id": "8b18fa00",
   "metadata": {},
   "source": [
    "# filling nomial values with onehot and ordinal with ordinalencoder"
   ]
  },
  {
   "cell_type": "code",
   "execution_count": 19,
   "id": "b099cce0",
   "metadata": {},
   "outputs": [],
   "source": [
    "feature_engineering=ColumnTransformer([\n",
    "    (\"onehot\",OneHotEncoder(sparse=False,handle_unknown='ignore'),[\"company\",\"fuel_type\",\"transmission_type\"]) \n",
    "],remainder=\"passthrough\",verbose_feature_names_out=False)"
   ]
  },
  {
   "cell_type": "code",
   "execution_count": 20,
   "id": "089aaa15",
   "metadata": {},
   "outputs": [],
   "source": [
    "pipe=Pipeline([\n",
    "    (\"feature_engineering\",feature_engineering),\n",
    "    (\"reg\",RandomForestRegressor(max_depth=15,min_samples_split=2,n_estimators=80))\n",
    "])"
   ]
  },
  {
   "cell_type": "code",
   "execution_count": 21,
   "id": "7024ffca",
   "metadata": {},
   "outputs": [],
   "source": [
    "kf = KFold(n_splits=k_folds, shuffle=True)\n",
    "scores=cross_val_score(pipe,x,y,cv=kf,scoring=\"r2\")"
   ]
  },
  {
   "cell_type": "code",
   "execution_count": 22,
   "id": "f2977b8d",
   "metadata": {},
   "outputs": [
    {
     "data": {
      "text/plain": [
       "0.9216223772757349"
      ]
     },
     "execution_count": 22,
     "metadata": {},
     "output_type": "execute_result"
    }
   ],
   "source": [
    "scores.mean()"
   ]
  },
  {
   "cell_type": "code",
   "execution_count": 23,
   "id": "5cab6bcb",
   "metadata": {},
   "outputs": [
    {
     "data": {
      "text/plain": [
       "0.048741130566138186"
      ]
     },
     "execution_count": 23,
     "metadata": {},
     "output_type": "execute_result"
    }
   ],
   "source": [
    "scores.std()"
   ]
  },
  {
   "cell_type": "code",
   "execution_count": null,
   "id": "639f09c5",
   "metadata": {},
   "outputs": [],
   "source": [
    "model_output=[]\n",
    "\n",
    "for model_name,model in model_dict.items():\n",
    "    model_output.append(scorer(model_name,model))"
   ]
  },
  {
   "cell_type": "code",
   "execution_count": null,
   "id": "f2a46d6c",
   "metadata": {},
   "outputs": [],
   "source": [
    "pd.DataFrame(model_output,columns=[\"model\",\"rscore\",\"mae\"]).sort_values(by=\"rscore\",ascending=False)"
   ]
  },
  {
   "cell_type": "code",
   "execution_count": null,
   "id": "3b2daf04",
   "metadata": {},
   "outputs": [],
   "source": []
  },
  {
   "cell_type": "code",
   "execution_count": null,
   "id": "c4fc9afe",
   "metadata": {},
   "outputs": [],
   "source": []
  },
  {
   "cell_type": "markdown",
   "id": "c9cf0860",
   "metadata": {},
   "source": [
    "# target encoding column having very high no of categories"
   ]
  },
  {
   "cell_type": "code",
   "execution_count": null,
   "id": "eb0f7fb8",
   "metadata": {},
   "outputs": [],
   "source": [
    "#pip install category_encoders"
   ]
  },
  {
   "cell_type": "code",
   "execution_count": null,
   "id": "c00c5b0d",
   "metadata": {},
   "outputs": [],
   "source": [
    "import category_encoders as ce"
   ]
  },
  {
   "cell_type": "code",
   "execution_count": null,
   "id": "000b93de",
   "metadata": {},
   "outputs": [],
   "source": [
    "feature_engineering=ColumnTransformer([\n",
    "    (\"onehot\",OneHotEncoder(sparse=False,handle_unknown='ignore'),[\"fuel_type\",\"transmission_type\"]),\n",
    "    (\"target_enc\",ce.TargetEncoder(),[\"company\"])\n",
    "],remainder=\"passthrough\",verbose_feature_names_out=False)"
   ]
  },
  {
   "cell_type": "code",
   "execution_count": null,
   "id": "e2dc3285",
   "metadata": {},
   "outputs": [],
   "source": [
    "pipe=Pipeline([\n",
    "    (\"feature_engineering\",feature_engineering),\n",
    "    (\"reg\",RandomForestRegressor(max_depth=15,min_samples_split=2,n_estimators=80))\n",
    "])"
   ]
  },
  {
   "cell_type": "code",
   "execution_count": null,
   "id": "4be0daed",
   "metadata": {},
   "outputs": [],
   "source": [
    "k_folds=10"
   ]
  },
  {
   "cell_type": "code",
   "execution_count": null,
   "id": "e64f95f7",
   "metadata": {},
   "outputs": [],
   "source": [
    "kf = KFold(n_splits=k_folds, shuffle=True)\n",
    "scores=cross_val_score(pipe,x,y,cv=kf,scoring=\"r2\")"
   ]
  },
  {
   "cell_type": "code",
   "execution_count": null,
   "id": "26c24262",
   "metadata": {},
   "outputs": [],
   "source": [
    "scores.mean()"
   ]
  },
  {
   "cell_type": "code",
   "execution_count": null,
   "id": "2dcee62e",
   "metadata": {},
   "outputs": [],
   "source": [
    "scores.std()"
   ]
  },
  {
   "cell_type": "code",
   "execution_count": null,
   "id": "68f5c68d",
   "metadata": {},
   "outputs": [],
   "source": [
    "scores"
   ]
  },
  {
   "cell_type": "code",
   "execution_count": null,
   "id": "1e74e178",
   "metadata": {},
   "outputs": [],
   "source": [
    "model_output=[]\n",
    "\n",
    "for model_name,model in model_dict.items():\n",
    "    model_output.append(scorer(model_name,model))"
   ]
  },
  {
   "cell_type": "code",
   "execution_count": null,
   "id": "2dd28675",
   "metadata": {},
   "outputs": [],
   "source": [
    "pd.DataFrame(model_output,columns=[\"model\",\"rscore\",\"mae\"]).sort_values(by=\"rscore\",ascending=False)"
   ]
  },
  {
   "cell_type": "code",
   "execution_count": null,
   "id": "a8afcd9f",
   "metadata": {},
   "outputs": [],
   "source": []
  },
  {
   "cell_type": "markdown",
   "id": "8b23d092",
   "metadata": {},
   "source": [
    "# chosing model,category handling method which giving more r2score and less mae"
   ]
  },
  {
   "cell_type": "code",
   "execution_count": null,
   "id": "e670e8cc",
   "metadata": {},
   "outputs": [],
   "source": []
  },
  {
   "cell_type": "code",
   "execution_count": null,
   "id": "ee156cb4",
   "metadata": {},
   "outputs": [],
   "source": [
    "feature_engineering=ColumnTransformer([\n",
    "    (\"onehot\",OneHotEncoder(sparse=False,handle_unknown='ignore'),[\"fuel_type\",\"transmission_type\"]),\n",
    "    (\"target_enc\",ce.TargetEncoder(),[\"company\"])\n",
    "],remainder=\"passthrough\",verbose_feature_names_out=False)"
   ]
  },
  {
   "cell_type": "code",
   "execution_count": null,
   "id": "5afb060e",
   "metadata": {},
   "outputs": [],
   "source": [
    "reg=XGBRegressor()"
   ]
  },
  {
   "cell_type": "code",
   "execution_count": null,
   "id": "7f72b75b",
   "metadata": {},
   "outputs": [],
   "source": [
    "pipe=Pipeline([\n",
    "    (\"feature_engineering\",feature_engineering),\n",
    "    (\"reg\",reg)\n",
    "])"
   ]
  },
  {
   "cell_type": "code",
   "execution_count": null,
   "id": "96b6da03",
   "metadata": {},
   "outputs": [],
   "source": [
    "pipe.fit(x_train,y_train)"
   ]
  },
  {
   "cell_type": "code",
   "execution_count": null,
   "id": "d3d2858b",
   "metadata": {},
   "outputs": [],
   "source": [
    "pickle.dump(pipe,open(\"pipe.pkl\",\"wb\"))"
   ]
  },
  {
   "cell_type": "code",
   "execution_count": null,
   "id": "10dafe47",
   "metadata": {},
   "outputs": [],
   "source": [
    "pickle.dump(df,open(\"dataframe.pkl\",\"wb\"))"
   ]
  },
  {
   "cell_type": "code",
   "execution_count": null,
   "id": "acdbfb12",
   "metadata": {},
   "outputs": [],
   "source": []
  },
  {
   "cell_type": "code",
   "execution_count": null,
   "id": "6cd90e67",
   "metadata": {},
   "outputs": [],
   "source": []
  },
  {
   "cell_type": "code",
   "execution_count": null,
   "id": "d9ee7f07",
   "metadata": {},
   "outputs": [],
   "source": []
  }
 ],
 "metadata": {
  "kernelspec": {
   "display_name": "Python 3 (ipykernel)",
   "language": "python",
   "name": "python3"
  },
  "language_info": {
   "codemirror_mode": {
    "name": "ipython",
    "version": 3
   },
   "file_extension": ".py",
   "mimetype": "text/x-python",
   "name": "python",
   "nbconvert_exporter": "python",
   "pygments_lexer": "ipython3",
   "version": "3.11.5"
  }
 },
 "nbformat": 4,
 "nbformat_minor": 5
}
