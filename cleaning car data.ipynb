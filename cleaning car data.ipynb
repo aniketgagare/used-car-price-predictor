{
 "cells": [
  {
   "cell_type": "code",
   "execution_count": 1,
   "id": "2eefc5e0",
   "metadata": {},
   "outputs": [],
   "source": [
    "import pandas as pd\n",
    "import warnings\n",
    "warnings.filterwarnings('ignore')"
   ]
  },
  {
   "cell_type": "code",
   "execution_count": 2,
   "id": "0e19c913",
   "metadata": {},
   "outputs": [],
   "source": [
    "path=\"used_car_dataset.csv\""
   ]
  },
  {
   "cell_type": "code",
   "execution_count": 3,
   "id": "ea71fa9c",
   "metadata": {},
   "outputs": [],
   "source": [
    "df=pd.read_csv(path,index_col=0)"
   ]
  },
  {
   "cell_type": "code",
   "execution_count": 4,
   "id": "db5554d0",
   "metadata": {},
   "outputs": [
    {
     "data": {
      "text/plain": [
       "Index(['name', 'year', 'selling_price', 'km_driven', 'fuel', 'transmission',\n",
       "       'owner', 'seats'],\n",
       "      dtype='object')"
      ]
     },
     "execution_count": 4,
     "metadata": {},
     "output_type": "execute_result"
    }
   ],
   "source": [
    "df.columns"
   ]
  },
  {
   "cell_type": "code",
   "execution_count": 5,
   "id": "46edda2f",
   "metadata": {},
   "outputs": [
    {
     "data": {
      "text/plain": [
       "name              object\n",
       "year               int64\n",
       "selling_price      int64\n",
       "km_driven          int64\n",
       "fuel              object\n",
       "transmission      object\n",
       "owner             object\n",
       "seats            float64\n",
       "dtype: object"
      ]
     },
     "execution_count": 5,
     "metadata": {},
     "output_type": "execute_result"
    }
   ],
   "source": [
    "df.dtypes"
   ]
  },
  {
   "cell_type": "code",
   "execution_count": 6,
   "id": "ad093709",
   "metadata": {},
   "outputs": [],
   "source": [
    "# no of seats must be in int and selling price,km driven can be in float"
   ]
  },
  {
   "cell_type": "code",
   "execution_count": 7,
   "id": "9dee5776",
   "metadata": {},
   "outputs": [],
   "source": [
    "# changing dtypes\n",
    "\n",
    "df=df.astype({\"km_driven\":\"float\",\"seats\":\"Int64\",\"selling_price\":\"float\"})"
   ]
  },
  {
   "cell_type": "code",
   "execution_count": 8,
   "id": "9a6d21a4",
   "metadata": {},
   "outputs": [],
   "source": [
    "# extracting brand name from car name column\n",
    "\n",
    "df[\"company\"]=df[\"name\"].str.split().str[0]"
   ]
  },
  {
   "cell_type": "code",
   "execution_count": 9,
   "id": "b7ed650f",
   "metadata": {},
   "outputs": [
    {
     "name": "stdout",
     "output_type": "stream",
     "text": [
      "['Maruti' 'Skoda' 'Honda' 'Hyundai' 'Toyota' 'Ford' 'Renault' 'Mahindra'\n",
      " 'Tata' 'Chevrolet' 'Fiat' 'Datsun' 'Jeep' 'Mercedes-Benz' 'Mitsubishi'\n",
      " 'Audi' 'Volkswagen' 'BMW' 'Nissan' 'Lexus' 'Jaguar' 'Land' 'MG' 'Volvo'\n",
      " 'Daewoo' 'Kia' 'Force' 'Ambassador' 'Ashok' 'Isuzu' 'Opel' 'Peugeot']\n"
     ]
    }
   ],
   "source": [
    "#  checking which barnd name are not fully extracted\n",
    "print(df[\"company\"].unique())"
   ]
  },
  {
   "cell_type": "code",
   "execution_count": 10,
   "id": "ea5cbc9f",
   "metadata": {},
   "outputs": [],
   "source": [
    "# replacing some brand name which are not complete\n",
    "dic={\"Land\":\"Land_Rover\",\"Ashok\":\"Ashok_Leyland\"}\n",
    "df[\"company\"]=df[\"company\"].replace(dic)"
   ]
  },
  {
   "cell_type": "code",
   "execution_count": 11,
   "id": "4ec13b6d",
   "metadata": {},
   "outputs": [],
   "source": [
    "# dropping name of car column which is no more useful\n",
    "df.drop(columns=[\"name\"],inplace=True)"
   ]
  },
  {
   "cell_type": "code",
   "execution_count": 12,
   "id": "94fc3ee4",
   "metadata": {},
   "outputs": [],
   "source": [
    "# changing names of some columns to more meaningful names\n",
    "df=df.rename(columns={\"year\":\"year_of_purchase\",\"fuel\":\"fuel_type\",\"transmission\":\"transmission_type\",\"seats\":\"no_of_seats\"})"
   ]
  },
  {
   "cell_type": "code",
   "execution_count": 13,
   "id": "682cc080",
   "metadata": {},
   "outputs": [],
   "source": [
    "# it is good practice to place target column at last index\n",
    "df.insert(0, 'company', df.pop('company'))\n",
    "df.insert(len(df.columns)-1, 'selling_price', df.pop('selling_price'))"
   ]
  },
  {
   "cell_type": "code",
   "execution_count": 14,
   "id": "a55105c0",
   "metadata": {},
   "outputs": [],
   "source": [
    "df.to_csv(\"clenaned_car_data.csv\")"
   ]
  },
  {
   "cell_type": "code",
   "execution_count": null,
   "id": "22fa12bf",
   "metadata": {},
   "outputs": [],
   "source": []
  }
 ],
 "metadata": {
  "kernelspec": {
   "display_name": "Python 3 (ipykernel)",
   "language": "python",
   "name": "python3"
  },
  "language_info": {
   "codemirror_mode": {
    "name": "ipython",
    "version": 3
   },
   "file_extension": ".py",
   "mimetype": "text/x-python",
   "name": "python",
   "nbconvert_exporter": "python",
   "pygments_lexer": "ipython3",
   "version": "3.11.5"
  }
 },
 "nbformat": 4,
 "nbformat_minor": 5
}
